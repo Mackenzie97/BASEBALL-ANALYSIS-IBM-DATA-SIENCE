{
 "cells": [
  {
   "cell_type": "markdown",
   "metadata": {},
   "source": [
    "<center>\n",
    "    <img src=\"https://cf-courses-data.s3.us.cloud-object-storage.appdomain.cloud/IBMDeveloperSkillsNetwork-DS0105EN-SkillsNetwork/labs/Module2/images/SN_web_lightmode.png\" width=\"300\" alt=\"cognitiveclass.ai logo\"  />\n",
    "</center>\n"
   ]
  },
  {
   "cell_type": "markdown",
   "metadata": {},
   "source": [
    "#### Add your code below following the instructions given in the course\n"
   ]
  },
  {
   "cell_type": "markdown",
   "metadata": {},
   "source": [
    "# My Jupyter Notebook on IBM Watson Studio"
   ]
  },
  {
   "cell_type": "markdown",
   "metadata": {},
   "source": [
    "**DANIEL M. MACKENZIE**"
   ]
  },
  {
   "cell_type": "markdown",
   "metadata": {},
   "source": [
    "General Data Analyst"
   ]
  },
  {
   "cell_type": "markdown",
   "metadata": {},
   "source": [
    "Since High school i developed an interest in staticts and data analysis. I enjoyed playing around \n",
    "with data, reading graphs and making conclusions about them which made me have a good interest in data science."
   ]
  },
  {
   "cell_type": "markdown",
   "metadata": {},
   "source": [
    "### The 2020 AL Cy Young Winner Shane Bieber's ERA(Earned run Average) calculation "
   ]
  },
  {
   "cell_type": "code",
   "execution_count": 1,
   "metadata": {},
   "outputs": [
    {
     "name": "stdout",
     "output_type": "stream",
     "text": [
      "2020 AL Cy Young Winner Shane Bieber Finished the season with a 1.63 ERA.\n"
     ]
    }
   ],
   "source": [
    "earnedRuns = 14\n",
    "innings = 77.1\n",
    "\n",
    "era = 9* earnedRuns / innings\n",
    "\n",
    "print(\"2020 AL Cy Young Winner Shane Bieber Finished the season with a %0.2f ERA.\" %(era))\n"
   ]
  },
  {
   "cell_type": "markdown",
   "metadata": {},
   "source": [
    "# MLB AMERICAN LEAGUE EAST 2021 PROJECTED STANDING"
   ]
  },
  {
   "cell_type": "markdown",
   "metadata": {},
   "source": [
    "| Team   | Wins  | Losses  | Win%   |\n",
    "| ------ | ----- | --------| -----  |\n",
    "| **NYY**    | *98*    | *64*      | **0.605**  |\n",
    "| **TBJ**    | 87    | 75      | 0.537  |\n",
    "| **TBR**    | 86    | 75      | 0.531  |\n",
    "| **BRS**    | 82    | 80      | 0.506  |"
   ]
  },
  {
   "cell_type": "markdown",
   "metadata": {},
   "source": [
    "\n",
    "![NYY](NYY.jpeg)"
   ]
  },
  {
   "cell_type": "code",
   "execution_count": null,
   "metadata": {},
   "outputs": [],
   "source": []
  }
 ],
 "metadata": {
  "kernelspec": {
   "display_name": "Python",
   "language": "python",
   "name": "conda-env-python-py"
  },
  "language_info": {
   "codemirror_mode": {
    "name": "ipython",
    "version": 3
   },
   "file_extension": ".py",
   "mimetype": "text/x-python",
   "name": "python",
   "nbconvert_exporter": "python",
   "pygments_lexer": "ipython3",
   "version": "3.7.12"
  }
 },
 "nbformat": 4,
 "nbformat_minor": 4
}
